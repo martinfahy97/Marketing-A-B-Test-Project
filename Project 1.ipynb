{
 "cells": [
  {
   "cell_type": "markdown",
   "id": "65ea9870-a6e0-446f-b72a-ec36c177c322",
   "metadata": {},
   "source": [
    "# Marketing A/B Test Project"
   ]
  },
  {
   "cell_type": "markdown",
   "id": "7864e066-ec05-417d-a310-6c4f4bc87fe2",
   "metadata": {},
   "source": [
    "Aim: To measure the difference in conversions (buying product) between an ad and a public service announcement, and to check whether this change in performance is statistically significant."
   ]
  },
  {
   "cell_type": "markdown",
   "id": "a24e610c-dcac-480e-b4da-bb141c574f5e",
   "metadata": {},
   "source": [
    "Data dictionary:\n",
    "\n",
    "- Index: Row index\n",
    "- user id: User ID (unique)\n",
    "- test group: If \"ad\" the person saw the advertisement, if \"psa\" they only saw the public service announcement\n",
    "- converted: If a person bought the product then True, else is False\n",
    "- total ads: Amount of ads seen by person\n",
    "- most ads day: Day that the person saw the biggest amount of ads\n",
    "- most ads hour: Hour of day that the person saw the biggest amount of ads"
   ]
  },
  {
   "cell_type": "markdown",
   "id": "9d305add-5d7f-45ec-9223-fe0ac754bd2b",
   "metadata": {},
   "source": [
    "Null Hypothesis: There is no statistically significant difference in the performance of conversion rates between Ad and PSA."
   ]
  },
  {
   "cell_type": "markdown",
   "id": "e3d48e2a-a3d1-4172-a562-92ea917eacc3",
   "metadata": {},
   "source": [
    "## Import Packages"
   ]
  },
  {
   "cell_type": "code",
   "execution_count": 6,
   "id": "3e0c728c-48f4-4087-b78e-62ac59612619",
   "metadata": {},
   "outputs": [],
   "source": [
    "import pandas as pd\n",
    "import seaborn as sns\n",
    "import matplotlib.pyplot as plt\n",
    "import numpy as np\n",
    "from scipy import stats\n",
    "import statistics"
   ]
  },
  {
   "cell_type": "markdown",
   "id": "ee11b5fd-7fa6-4cab-a083-92c0d7dd1731",
   "metadata": {},
   "source": [
    "## Import Data"
   ]
  },
  {
   "cell_type": "code",
   "execution_count": 8,
   "id": "1a30c7e3-4095-45d0-a2ca-91819e73179c",
   "metadata": {},
   "outputs": [],
   "source": [
    "data = pd.read_csv('p1_data.csv')"
   ]
  },
  {
   "cell_type": "code",
   "execution_count": 9,
   "id": "d63ba034-7749-44b3-98ba-f4ebd39c4754",
   "metadata": {},
   "outputs": [
    {
     "data": {
      "text/html": [
       "<div>\n",
       "<style scoped>\n",
       "    .dataframe tbody tr th:only-of-type {\n",
       "        vertical-align: middle;\n",
       "    }\n",
       "\n",
       "    .dataframe tbody tr th {\n",
       "        vertical-align: top;\n",
       "    }\n",
       "\n",
       "    .dataframe thead th {\n",
       "        text-align: right;\n",
       "    }\n",
       "</style>\n",
       "<table border=\"1\" class=\"dataframe\">\n",
       "  <thead>\n",
       "    <tr style=\"text-align: right;\">\n",
       "      <th></th>\n",
       "      <th>Unnamed: 0</th>\n",
       "      <th>user id</th>\n",
       "      <th>test group</th>\n",
       "      <th>converted</th>\n",
       "      <th>total ads</th>\n",
       "      <th>most ads day</th>\n",
       "      <th>most ads hour</th>\n",
       "    </tr>\n",
       "  </thead>\n",
       "  <tbody>\n",
       "    <tr>\n",
       "      <th>0</th>\n",
       "      <td>0</td>\n",
       "      <td>1069124</td>\n",
       "      <td>ad</td>\n",
       "      <td>False</td>\n",
       "      <td>130</td>\n",
       "      <td>Monday</td>\n",
       "      <td>20</td>\n",
       "    </tr>\n",
       "    <tr>\n",
       "      <th>1</th>\n",
       "      <td>1</td>\n",
       "      <td>1119715</td>\n",
       "      <td>ad</td>\n",
       "      <td>False</td>\n",
       "      <td>93</td>\n",
       "      <td>Tuesday</td>\n",
       "      <td>22</td>\n",
       "    </tr>\n",
       "    <tr>\n",
       "      <th>2</th>\n",
       "      <td>2</td>\n",
       "      <td>1144181</td>\n",
       "      <td>ad</td>\n",
       "      <td>False</td>\n",
       "      <td>21</td>\n",
       "      <td>Tuesday</td>\n",
       "      <td>18</td>\n",
       "    </tr>\n",
       "    <tr>\n",
       "      <th>3</th>\n",
       "      <td>3</td>\n",
       "      <td>1435133</td>\n",
       "      <td>ad</td>\n",
       "      <td>False</td>\n",
       "      <td>355</td>\n",
       "      <td>Tuesday</td>\n",
       "      <td>10</td>\n",
       "    </tr>\n",
       "    <tr>\n",
       "      <th>4</th>\n",
       "      <td>4</td>\n",
       "      <td>1015700</td>\n",
       "      <td>ad</td>\n",
       "      <td>False</td>\n",
       "      <td>276</td>\n",
       "      <td>Friday</td>\n",
       "      <td>14</td>\n",
       "    </tr>\n",
       "  </tbody>\n",
       "</table>\n",
       "</div>"
      ],
      "text/plain": [
       "   Unnamed: 0  user id test group  converted  total ads most ads day  \\\n",
       "0           0  1069124         ad      False        130       Monday   \n",
       "1           1  1119715         ad      False         93      Tuesday   \n",
       "2           2  1144181         ad      False         21      Tuesday   \n",
       "3           3  1435133         ad      False        355      Tuesday   \n",
       "4           4  1015700         ad      False        276       Friday   \n",
       "\n",
       "   most ads hour  \n",
       "0             20  \n",
       "1             22  \n",
       "2             18  \n",
       "3             10  \n",
       "4             14  "
      ]
     },
     "execution_count": 9,
     "metadata": {},
     "output_type": "execute_result"
    }
   ],
   "source": [
    "data.head()"
   ]
  },
  {
   "cell_type": "markdown",
   "id": "fad21e76-f3ec-4645-ba65-fc39211a3838",
   "metadata": {},
   "source": [
    "## Check Data"
   ]
  },
  {
   "cell_type": "code",
   "execution_count": 11,
   "id": "c0ca1ebe-ef9a-4780-a72e-0980548fc457",
   "metadata": {},
   "outputs": [
    {
     "name": "stdout",
     "output_type": "stream",
     "text": [
      "588101\n",
      "588101\n"
     ]
    }
   ],
   "source": [
    "# Compare \"Unnamed: 0\" with index\n",
    "\n",
    "print(len(data))\n",
    "print(data['Unnamed: 0'].max() + 1)"
   ]
  },
  {
   "cell_type": "code",
   "execution_count": 12,
   "id": "610880c4-ab86-4a8a-b66c-573786c17a1d",
   "metadata": {},
   "outputs": [],
   "source": [
    "# Remove redundant column\n",
    "\n",
    "data = data.drop('Unnamed: 0', axis=1)"
   ]
  },
  {
   "cell_type": "markdown",
   "id": "b24725e1-1a3e-4a7f-92e5-f4b69a5c1b5c",
   "metadata": {},
   "source": [
    "First column is redundant, so removed."
   ]
  },
  {
   "cell_type": "code",
   "execution_count": 14,
   "id": "28fd9da9-157d-4f16-aff0-d28ae0b79f82",
   "metadata": {},
   "outputs": [
    {
     "data": {
      "text/plain": [
       "Index(['user id', 'test group', 'converted', 'total ads', 'most ads day',\n",
       "       'most ads hour'],\n",
       "      dtype='object')"
      ]
     },
     "execution_count": 14,
     "metadata": {},
     "output_type": "execute_result"
    }
   ],
   "source": [
    "# Check column has been removed\n",
    "\n",
    "data.columns"
   ]
  },
  {
   "cell_type": "code",
   "execution_count": 15,
   "id": "afb22d7b-895b-40e1-a378-463a87b06478",
   "metadata": {},
   "outputs": [
    {
     "data": {
      "text/plain": [
       "user id           int64\n",
       "test group       object\n",
       "converted          bool\n",
       "total ads         int64\n",
       "most ads day     object\n",
       "most ads hour     int64\n",
       "dtype: object"
      ]
     },
     "execution_count": 15,
     "metadata": {},
     "output_type": "execute_result"
    }
   ],
   "source": [
    "# Check data types of columns make sense\n",
    "\n",
    "data.dtypes"
   ]
  },
  {
   "cell_type": "code",
   "execution_count": 16,
   "id": "5ca2caf7-9a27-4922-9017-3959c6fa9436",
   "metadata": {},
   "outputs": [
    {
     "data": {
      "text/plain": [
       "user id          0\n",
       "test group       0\n",
       "converted        0\n",
       "total ads        0\n",
       "most ads day     0\n",
       "most ads hour    0\n",
       "dtype: int64"
      ]
     },
     "execution_count": 16,
     "metadata": {},
     "output_type": "execute_result"
    }
   ],
   "source": [
    "# Check for null values\n",
    "\n",
    "data.isnull().sum()"
   ]
  },
  {
   "cell_type": "code",
   "execution_count": 17,
   "id": "8269b989-43ff-4732-835b-4789e32ff6a0",
   "metadata": {},
   "outputs": [
    {
     "data": {
      "text/plain": [
       "0"
      ]
     },
     "execution_count": 17,
     "metadata": {},
     "output_type": "execute_result"
    }
   ],
   "source": [
    "# Check for duplicated data\n",
    "\n",
    "data.duplicated().sum()"
   ]
  },
  {
   "cell_type": "code",
   "execution_count": 18,
   "id": "a6a1b290-7b19-4705-8907-df3ab2260ce8",
   "metadata": {},
   "outputs": [
    {
     "name": "stdout",
     "output_type": "stream",
     "text": [
      "Min User ID: 900000\n",
      "Max User ID: 1654483\n"
     ]
    }
   ],
   "source": [
    "# Check User IDs makes sense\n",
    "\n",
    "print('Min User ID: {}\\nMax User ID: {}'.format(data['user id'].min(), data['user id'].max()))"
   ]
  },
  {
   "cell_type": "code",
   "execution_count": 19,
   "id": "fd5a8181-4b57-41a7-a013-3de0901dc8fc",
   "metadata": {},
   "outputs": [
    {
     "name": "stdout",
     "output_type": "stream",
     "text": [
      "['ad' 'psa']\n",
      "0.960000068015528\n"
     ]
    }
   ],
   "source": [
    "# Check test group values fall into either category\n",
    "\n",
    "print(data['test group'].unique())\n",
    "\n",
    "# Check split\n",
    "\n",
    "print(len(data[data['test group']=='ad']) / len(data))"
   ]
  },
  {
   "cell_type": "markdown",
   "id": "3f635c9c-d849-4285-bd58-443324d93ec4",
   "metadata": {},
   "source": [
    "Split 96:4 (ad:psa)"
   ]
  },
  {
   "cell_type": "code",
   "execution_count": 21,
   "id": "0f0e6ed5-d604-450d-9162-7f4856f86090",
   "metadata": {},
   "outputs": [
    {
     "data": {
      "text/html": [
       "<div>\n",
       "<style scoped>\n",
       "    .dataframe tbody tr th:only-of-type {\n",
       "        vertical-align: middle;\n",
       "    }\n",
       "\n",
       "    .dataframe tbody tr th {\n",
       "        vertical-align: top;\n",
       "    }\n",
       "\n",
       "    .dataframe thead th {\n",
       "        text-align: right;\n",
       "    }\n",
       "</style>\n",
       "<table border=\"1\" class=\"dataframe\">\n",
       "  <thead>\n",
       "    <tr style=\"text-align: right;\">\n",
       "      <th></th>\n",
       "      <th>user id</th>\n",
       "      <th>test group</th>\n",
       "      <th>converted</th>\n",
       "      <th>total ads</th>\n",
       "      <th>most ads day</th>\n",
       "      <th>most ads hour</th>\n",
       "    </tr>\n",
       "  </thead>\n",
       "  <tbody>\n",
       "  </tbody>\n",
       "</table>\n",
       "</div>"
      ],
      "text/plain": [
       "Empty DataFrame\n",
       "Columns: [user id, test group, converted, total ads, most ads day, most ads hour]\n",
       "Index: []"
      ]
     },
     "execution_count": 21,
     "metadata": {},
     "output_type": "execute_result"
    }
   ],
   "source": [
    "# Check total ads are always above 0\n",
    "\n",
    "data[data['total ads']==0]"
   ]
  },
  {
   "cell_type": "code",
   "execution_count": 22,
   "id": "f34626a0-6bcc-433e-a535-12ac4fd88b94",
   "metadata": {},
   "outputs": [],
   "source": [
    "# Change column names\n",
    "\n",
    "data.columns = ['user_id', 'test_group', 'converted', 'total_ads', 'most_ads_day',\n",
    "                'most_ads_hour']"
   ]
  },
  {
   "cell_type": "code",
   "execution_count": 23,
   "id": "e7a86f68-f2ff-4505-b7bc-7ad8d1540fa0",
   "metadata": {},
   "outputs": [
    {
     "data": {
      "text/plain": [
       "Index(['user_id', 'test_group', 'converted', 'total_ads', 'most_ads_day',\n",
       "       'most_ads_hour'],\n",
       "      dtype='object')"
      ]
     },
     "execution_count": 23,
     "metadata": {},
     "output_type": "execute_result"
    }
   ],
   "source": [
    "data.columns"
   ]
  },
  {
   "cell_type": "markdown",
   "id": "62e64c4a-946a-4642-8b2a-904cb3d81c8f",
   "metadata": {},
   "source": [
    "## Exploratory Analysis"
   ]
  },
  {
   "cell_type": "code",
   "execution_count": 25,
   "id": "a5191b45-38df-40c1-8b5e-91da21da52b7",
   "metadata": {},
   "outputs": [
    {
     "data": {
      "image/png": "[encoded data removed]",
      "text/plain": [
       "<Figure size 640x480 with 1 Axes>"
      ]
     },
     "metadata": {},
     "output_type": "display_data"
    }
   ],
   "source": [
    "ax = sns.countplot(data=data, x='converted')\n",
    "\n",
    "for i in ax.containers:\n",
    "    ax.bar_label(i,)"
   ]
  },
  {
   "cell_type": "code",
   "execution_count": 26,
   "id": "b68c0307-b09f-4582-9d4a-70ec4861a89e",
   "metadata": {},
   "outputs": [
    {
     "name": "stdout",
     "output_type": "stream",
     "text": [
      "Ad conversion rate: 2.55%\n",
      "PSA conversion rate: 1.79%\n"
     ]
    }
   ],
   "source": [
    "# Calculate % of each group that converted\n",
    "\n",
    "converted = data[data['converted']==True]\n",
    "\n",
    "ad_conv = converted[converted['test_group']=='ad']\n",
    "psa_conv = converted[converted['test_group']=='psa']\n",
    "\n",
    "ad_conv_perc = np.round(len(ad_conv) / len(data[data['test_group']=='ad']) * 100, 2)\n",
    "psa_conv_perc = np.round(len(psa_conv) / len(data[data['test_group']=='psa']) * 100, 2)\n",
    "\n",
    "print('Ad conversion rate: {}%'.format(ad_conv_perc))\n",
    "print('PSA conversion rate: {}%'.format(psa_conv_perc))"
   ]
  },
  {
   "cell_type": "markdown",
   "id": "ba23ed36-4933-4e68-8871-bc2d3e37b0bd",
   "metadata": {},
   "source": [
    "Ad has a higher conversion rate"
   ]
  },
  {
   "cell_type": "code",
   "execution_count": 28,
   "id": "c2e9fa70-6401-4b42-a08c-e445f3878574",
   "metadata": {},
   "outputs": [
    {
     "data": {
      "image/png": "[encoded data removed]",
      "text/plain": [
       "<Figure size 640x480 with 1 Axes>"
      ]
     },
     "metadata": {},
     "output_type": "display_data"
    }
   ],
   "source": [
    "# Plot days with most ads seen\n",
    "\n",
    "order = ['Monday', 'Tuesday', 'Wednesday', 'Thursday', 'Friday', 'Saturday', 'Sunday']\n",
    "\n",
    "ax1 = sns.countplot(data=data, x='most_ads_day', hue='most_ads_day',\n",
    "                    order=order)"
   ]
  },
  {
   "cell_type": "code",
   "execution_count": 29,
   "id": "d6fbd404-84be-4f6d-a209-03a1709518a8",
   "metadata": {},
   "outputs": [
    {
     "data": {
      "image/png": "[encoded data removed]",
      "text/plain": [
       "<Figure size 640x480 with 1 Axes>"
      ]
     },
     "metadata": {},
     "output_type": "display_data"
    }
   ],
   "source": [
    "ax2 = sns.countplot(data=data, x='most_ads_day', hue='most_ads_day',\n",
    "                    order=data['most_ads_day'].value_counts().index)"
   ]
  },
  {
   "cell_type": "markdown",
   "id": "c94ead68-ed66-45b1-9767-9bb942360c9d",
   "metadata": {},
   "source": [
    "Most seen: Friday, least seen: Tuesday"
   ]
  },
  {
   "cell_type": "code",
   "execution_count": 31,
   "id": "8630f2f3-64a2-42cb-953b-225af87fe92a",
   "metadata": {},
   "outputs": [
    {
     "data": {
      "image/png": "[encoded data removed]",
      "text/plain": [
       "<Figure size 640x480 with 1 Axes>"
      ]
     },
     "metadata": {},
     "output_type": "display_data"
    }
   ],
   "source": [
    "# Plot hours with most ads seen\n",
    "\n",
    "order = [0, 1, 2, 3, 4, 5, 6, 7, 8, 9, 10, 11, 12, 13, 14, 15, 16, 17, 18, 19, 20, 21, 22, 23]\n",
    "\n",
    "ax3 = sns.countplot(data=data, x='most_ads_hour', hue='most_ads_hour',\n",
    "                    order=order)"
   ]
  },
  {
   "cell_type": "markdown",
   "id": "baa16e6a-ff5d-4753-b3b4-7ebda21a2204",
   "metadata": {},
   "source": [
    "Increase in seen at 8am until peak at 1pm, then slowly goes down until 11pm"
   ]
  },
  {
   "cell_type": "code",
   "execution_count": 33,
   "id": "dde8dae2-1ad4-48cf-87c0-1be7de632388",
   "metadata": {},
   "outputs": [
    {
     "name": "stdout",
     "output_type": "stream",
     "text": [
      "Minimum amount of ads seen: 1\n",
      "Maximum amount of ads seen: 2065\n",
      "Mean amount of ads seen: 24.82087600599217\n",
      "Mode amount of ads seen: 1\n",
      "Median amount of ads seen: 13.0\n"
     ]
    }
   ],
   "source": [
    "# Ads seen by each person\n",
    "\n",
    "total_ads_min = data['total_ads'].min()\n",
    "total_ads_max = data['total_ads'].max()\n",
    "total_ads_mean = data['total_ads'].mean()\n",
    "total_ads_mode = data['total_ads'].mode()[0]\n",
    "total_ads_median = data['total_ads'].median()\n",
    "\n",
    "print('Minimum amount of ads seen: {}'.format(total_ads_min))\n",
    "print('Maximum amount of ads seen: {}'.format(total_ads_max))\n",
    "print('Mean amount of ads seen: {}'.format(total_ads_mean))\n",
    "print('Mode amount of ads seen: {}'.format(total_ads_mode))\n",
    "print('Median amount of ads seen: {}'.format(total_ads_median))"
   ]
  },
  {
   "cell_type": "markdown",
   "id": "a1d13c6a-b67d-4025-bbfa-919567ba4d88",
   "metadata": {},
   "source": [
    "The distribution of averages indicates that the majority of values are fairly low, with some exceptional high values"
   ]
  },
  {
   "cell_type": "code",
   "execution_count": 35,
   "id": "29861ef5-8228-4e60-b451-be9e39902c84",
   "metadata": {},
   "outputs": [
    {
     "data": {
      "image/png": "[encoded data removed]",
      "text/plain": [
       "<Figure size 640x480 with 1 Axes>"
      ]
     },
     "metadata": {},
     "output_type": "display_data"
    }
   ],
   "source": [
    "total_ads = data['total_ads'].value_counts().sort_index(ascending=True)\n",
    "\n",
    "ax4 = sns.scatterplot(data=total_ads, alpha=0.15)"
   ]
  },
  {
   "cell_type": "markdown",
   "id": "26696b44-8a9e-40fa-8b76-1e5042d23c73",
   "metadata": {},
   "source": [
    "Majority of people were shown very few ads, below 25"
   ]
  },
  {
   "cell_type": "code",
   "execution_count": 37,
   "id": "9b912faf-fb73-44a8-ace2-f503bc910f22",
   "metadata": {},
   "outputs": [],
   "source": [
    "# Comparing people who saw different number of ads\n",
    "\n",
    "people_ad_1 = data[(data['test_group']=='ad') & (data['total_ads'] == 1)]\n",
    "people_ad_2_10 = data[(data['test_group']=='ad') & ((data['total_ads'] <= 10) | (data['total_ads'] >= 2))]\n",
    "people_ad_11_100 = data[(data['test_group']=='ad') & ((data['total_ads'] <= 100) | (data['total_ads'] >= 11))]\n",
    "people_ad_over_100 = data[(data['test_group']=='ad') & (data['total_ads'] > 100)]"
   ]
  },
  {
   "cell_type": "code",
   "execution_count": 38,
   "id": "974b45c3-06bf-4f49-991e-e760f73825d0",
   "metadata": {},
   "outputs": [
    {
     "data": {
      "text/plain": [
       "[Text(0, 0, '1'),\n",
       " Text(1, 0, '2 to 10'),\n",
       " Text(2, 0, '11 to 100'),\n",
       " Text(3, 0, 'Over 100')]"
      ]
     },
     "execution_count": 38,
     "metadata": {},
     "output_type": "execute_result"
    },
    {
     "data": {
      "image/png": "[encoded data removed]",
      "text/plain": [
       "<Figure size 640x480 with 1 Axes>"
      ]
     },
     "metadata": {},
     "output_type": "display_data"
    }
   ],
   "source": [
    "ax5 = sns.barplot([people_ad_1['converted'].sum(), people_ad_2_10['converted'].sum(),\n",
    "             people_ad_11_100['converted'].sum(), people_ad_over_100['converted'].sum()])\n",
    "ax5.set_xticks([0, 1, 2, 3])\n",
    "ax5.set_xticklabels(['1', '2 to 10', '11 to 100', 'Over 100'])"
   ]
  },
  {
   "cell_type": "markdown",
   "id": "036e8e86-6aac-4577-a5a6-1d9efdfd9d32",
   "metadata": {},
   "source": [
    "Most conversions happened between 2 to 100 ads seen"
   ]
  },
  {
   "cell_type": "markdown",
   "id": "fe42325b-6ef0-4f2d-8efd-30aab390228f",
   "metadata": {},
   "source": [
    "## Statistical Analysis"
   ]
  },
  {
   "cell_type": "code",
   "execution_count": 41,
   "id": "c6cff2d0-4a4d-455d-87d6-c68d02416eb9",
   "metadata": {},
   "outputs": [],
   "source": [
    "# Calculate Means\n",
    "\n",
    "total_ad_people = len(data[data['test_group']=='ad'])\n",
    "mean_ad_conv = data.loc[data['test_group']=='ad', 'converted'].sum() / total_ad_people * 100\n",
    "\n",
    "total_psa_people = len(data[data['test_group']=='psa'])\n",
    "mean_psa_conv = data.loc[data['test_group']=='psa', 'converted'].sum() / total_psa_people * 100"
   ]
  },
  {
   "cell_type": "code",
   "execution_count": 42,
   "id": "84467854-2b93-4930-a18f-e03c47af70b0",
   "metadata": {},
   "outputs": [
    {
     "name": "stdout",
     "output_type": "stream",
     "text": [
      "Ad Conversion Mean: 2.55%\n",
      "PSA Conversion Mean: 1.79%\n"
     ]
    }
   ],
   "source": [
    "print('Ad Conversion Mean: {}%'.format(np.round(mean_ad_conv, 2)))\n",
    "print('PSA Conversion Mean: {}%'.format(np.round(mean_psa_conv, 2)))"
   ]
  },
  {
   "cell_type": "code",
   "execution_count": 43,
   "id": "8d6ae76e-c982-4c1f-90a4-15fb0a4d64ad",
   "metadata": {},
   "outputs": [],
   "source": [
    "ad_conv_array = data.loc[data['test_group']=='ad', 'converted'].array\n",
    "psa_conv_array = data.loc[data['test_group']=='psa', 'converted'].array"
   ]
  },
  {
   "cell_type": "code",
   "execution_count": 44,
   "id": "8d725e06-ee9f-4808-8fc6-5e549fb6de2a",
   "metadata": {},
   "outputs": [],
   "source": [
    "# Calculate p-value\n",
    "\n",
    "results = stats.ttest_ind(ad_conv_array, psa_conv_array)"
   ]
  },
  {
   "cell_type": "code",
   "execution_count": 45,
   "id": "703cb8a5-c23b-4b28-80ad-3e3d2cad54a6",
   "metadata": {},
   "outputs": [
    {
     "name": "stdout",
     "output_type": "stream",
     "text": [
      "P-value = 1.7033052627831264e-13\n"
     ]
    }
   ],
   "source": [
    "print('P-value = {}'.format(results.pvalue))"
   ]
  },
  {
   "cell_type": "markdown",
   "id": "8645c87b-4467-4f12-98f5-bb6dd14e7499",
   "metadata": {},
   "source": [
    "p-value is 1.7, which is > 0.05 - Meaning we fail to reject the null hypothesis"
   ]
  }
 ],
 "metadata": {
  "kernelspec": {
   "display_name": "Python 3 (ipykernel)",
   "language": "python",
   "name": "python3"
  },
  "language_info": {
   "codemirror_mode": {
    "name": "ipython",
    "version": 3
   },
   "file_extension": ".py",
   "mimetype": "text/x-python",
   "name": "python",
   "nbconvert_exporter": "python",
   "pygments_lexer": "ipython3",
   "version": "3.12.4"
  }
 },
 "nbformat": 4,
 "nbformat_minor": 5
}
